{
 "cells": [
  {
   "cell_type": "code",
   "id": "initial_id",
   "metadata": {
    "collapsed": true
   },
   "source": [
    "import pandas as pd\n",
    "import matplotlib.pyplot as plt\n",
    "\n",
    "train_loss = pd.read_csv(\"data/train_loss.csv\")\n",
    "val_loss = pd.read_csv(\"data/validation_loss.csv\")\n",
    "\n",
    "train_loss = train_loss[train_loss['Step'] < 100]\n",
    "val_loss = val_loss[val_loss['Step'] < 100]\n",
    "\n",
    "plt.figure(figsize=(12, 6))\n",
    "plt.plot(train_loss['Step'], train_loss['Value'], label='Train Loss', linewidth=2)\n",
    "plt.plot(val_loss['Step'], val_loss['Value'], label='Validation Loss', linewidth=2)\n",
    "\n",
    "plt.xlabel('Step', fontsize=16)\n",
    "plt.ylabel('Loss', fontsize=16)\n",
    "plt.title('Training and Validation Loss', fontsize=20, fontweight='bold')\n",
    "plt.legend(fontsize=14)\n",
    "plt.grid(True)\n",
    "plt.xticks(fontsize=14)\n",
    "plt.yticks(fontsize=14)\n",
    "\n",
    "plt.show()"
   ],
   "outputs": [],
   "execution_count": null
  },
  {
   "metadata": {},
   "cell_type": "code",
   "outputs": [],
   "execution_count": null,
   "source": "",
   "id": "5b8767978e6877fe"
  }
 ],
 "metadata": {
  "kernelspec": {
   "display_name": "Python 3",
   "language": "python",
   "name": "python3"
  },
  "language_info": {
   "codemirror_mode": {
    "name": "ipython",
    "version": 2
   },
   "file_extension": ".py",
   "mimetype": "text/x-python",
   "name": "python",
   "nbconvert_exporter": "python",
   "pygments_lexer": "ipython2",
   "version": "2.7.6"
  }
 },
 "nbformat": 4,
 "nbformat_minor": 5
}
