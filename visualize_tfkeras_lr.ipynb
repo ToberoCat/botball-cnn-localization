{
 "cells": [
  {
   "cell_type": "code",
   "id": "92f479ae",
   "metadata": {},
   "source": [
    "from typing import List, Tuple\n",
    "\n",
    "import matplotlib.pyplot as plt\n",
    "import numpy as np\n",
    "import tensorflow.keras as tfkeras\n",
    "from tensorflow.keras.optimizers.schedules import LearningRateSchedule\n",
    "\n",
    "%matplotlib inline\n",
    "\n",
    "\n",
    "def visualize_lr_schedule(opt: LearningRateSchedule, n_steps: int, step_s: int) -> Tuple[List[int], List[float]]:\n",
    "    lr = []\n",
    "    steps = list(range(0, n_steps, step_s))\n",
    "\n",
    "    for step in steps:\n",
    "        lr_at_s = opt(step).numpy()\n",
    "        lr.append(lr_at_s)\n",
    "\n",
    "    plt.figure(figsize=(8, 5))\n",
    "    plt.suptitle(f'Learning Rate Schedule: {type(opt).__name__}')\n",
    "    plt.plot(steps, lr, label=\"Learning Rate\")\n",
    "    plt.xlabel(\"Training Steps\")\n",
    "    plt.ylabel(\"Learning Rate\")\n",
    "    plt.legend()\n",
    "    plt.grid(True)\n",
    "\n",
    "    return steps, lr\n"
   ],
   "outputs": [],
   "execution_count": null
  },
  {
   "cell_type": "code",
   "id": "2999268e",
   "metadata": {},
   "source": [
    "from keras.src.optimizers.schedules import CosineDecayRestarts\n",
    "\n",
    "cos_dec = CosineDecayRestarts(\n",
    "    initial_learning_rate=0.01,\n",
    "    first_decay_steps=200,\n",
    "    t_mul=2.0,\n",
    "    m_mul=0.5,\n",
    "    alpha=1e-5\n",
    ")\n",
    "steps, lr_values = visualize_lr_schedule(cos_dec, n_steps=1000, step_s=3)\n"
   ],
   "outputs": [],
   "execution_count": null
  }
 ],
 "metadata": {
  "kernelspec": {
   "display_name": "Python 3",
   "language": "python",
   "name": "python3"
  },
  "language_info": {
   "codemirror_mode": {
    "name": "ipython",
    "version": 3
   },
   "file_extension": ".py",
   "mimetype": "text/x-python",
   "name": "python",
   "nbconvert_exporter": "python",
   "pygments_lexer": "ipython3",
   "version": "3.7.12"
  }
 },
 "nbformat": 4,
 "nbformat_minor": 5
}
