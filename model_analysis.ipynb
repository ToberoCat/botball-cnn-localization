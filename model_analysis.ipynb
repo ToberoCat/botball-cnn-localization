{
 "cells": [
  {
   "cell_type": "code",
   "id": "initial_id",
   "metadata": {
    "collapsed": true
   },
   "source": [
    "from keras.src.saving import load_model\n",
    "\n",
    "model = load_model(\"data/ckpt_best_high_preprocessing/best.keras\")"
   ],
   "outputs": [],
   "execution_count": null
  },
  {
   "metadata": {},
   "cell_type": "code",
   "source": [
    "from src.augmentations import augment_image\n",
    "from src.data_loader import load_dataframe, create_datasets\n",
    "\n",
    "df = load_dataframe(\"data/cleaned_metadata.csv\")\n",
    "\n",
    "train_dataset, test_dataset = create_datasets(\n",
    "    df,\n",
    "    test_size=0.1,\n",
    "    batch_size=64,\n",
    "    augment_fn=augment_image\n",
    ")"
   ],
   "id": "d4681de0997ede7d",
   "outputs": [],
   "execution_count": null
  },
  {
   "metadata": {},
   "cell_type": "code",
   "source": [
    "from src.data_loader import denormalize_labels\n",
    "from src.utils.plotting import create_predictions_visualization\n",
    "import matplotlib.pyplot as plt\n",
    "\n",
    "train_dataset_iter = iter(train_dataset)\n",
    "X_test, y_test = next(train_dataset_iter)\n",
    "X_test, y_test = X_test.numpy(), y_test.numpy()\n",
    "y_test = denormalize_labels(y_test)\n",
    "\n",
    "y_pred = denormalize_labels(model.predict(X_test))\n",
    "\n",
    "points = 10\n",
    "create_predictions_visualization(y_test[:points], y_pred[:points], \"assets/gametable.png\", arrow_length=10)\n",
    "plt.title(\"Predictions on Training Data\")\n",
    "plt.show()"
   ],
   "id": "4ec909a0a9c44e4",
   "outputs": [],
   "execution_count": null
  },
  {
   "metadata": {},
   "cell_type": "code",
   "source": "",
   "id": "3b7ae7696609fd10",
   "outputs": [],
   "execution_count": null
  },
  {
   "metadata": {},
   "cell_type": "code",
   "source": [
    "import seaborn as sns\n",
    "import numpy as np\n",
    "import pandas as pd\n",
    "\n",
    "errors = y_test - y_pred\n",
    "error_df = pd.DataFrame(errors, columns=[\"x_error\", \"y_error\", \"theta_error\"])\n",
    "print(f\"Mean Squared Error: {np.mean(np.square(errors))}\")\n",
    "print(f\"Root Mean Squared Error: {np.sqrt(np.mean(np.square(errors)))}\")\n",
    "print(f\"Mean Absolute Error: {np.mean(np.abs(errors))}\")\n",
    "print(f\"Max Error: {np.max(np.abs(errors))}\")\n",
    "print(f\"Min Error: {np.min(np.abs(errors))}\")\n",
    "print(f\"Standard Deviation: {np.std(errors)}\")\n",
    "sns.histplot(error_df, bins=50, kde=True)\n",
    "plt.xlabel(\"Error Value\")\n",
    "plt.ylabel(\"Frequency\")\n",
    "plt.title(\"Error Distribution\")\n",
    "plt.show()"
   ],
   "id": "2c973e31de3fbc0e",
   "outputs": [],
   "execution_count": null
  },
  {
   "metadata": {},
   "cell_type": "code",
   "source": [
    "import numpy as np\n",
    "import matplotlib.pyplot as plt\n",
    "from matplotlib import image as mpimg\n",
    "import os\n",
    "import seaborn as sns\n",
    "\n",
    "\n",
    "def create_error_kde(y_test, y_pred, background_img_path, cmap='viridis', levels=50, alpha=0.6):\n",
    "    if not os.path.exists(background_img_path):\n",
    "        print(f\"Background image not found: {background_img_path}\")\n",
    "        return\n",
    "\n",
    "    background_img = mpimg.imread(background_img_path)\n",
    "    image_height, image_width, _ = background_img.shape\n",
    "\n",
    "    errors = np.linalg.norm(y_pred - y_test, axis=1)\n",
    "    x_vals = y_test[:, 0]\n",
    "    y_vals = y_test[:, 1]\n",
    "\n",
    "    plt.figure(figsize=(10, 8))\n",
    "    plt.imshow(background_img, extent=[0, image_width, image_height, 0], aspect='auto')\n",
    "\n",
    "    kde_plot = sns.kdeplot(\n",
    "        x=x_vals,\n",
    "        y=y_vals,\n",
    "        weights=errors,\n",
    "        cmap=cmap,\n",
    "        fill=True,\n",
    "        levels=levels,\n",
    "        alpha=alpha,\n",
    "        thresh=0.01\n",
    "    )\n",
    "\n",
    "    cbar = plt.colorbar(kde_plot.collections[0], label=\"Weighted Error Density\")\n",
    "\n",
    "    plt.xlim(0, image_width)\n",
    "    plt.ylim(310, 70)\n",
    "    plt.xlabel(\"X Position\")\n",
    "    plt.ylabel(\"Y Position\")\n",
    "    plt.title(\"KDE of Prediction Error Distribution\")\n",
    "    plt.show()\n",
    "\n",
    "\n",
    "create_error_kde(y_test, y_pred, \"assets/gametable.png\", cmap='magma', levels=25, alpha=0.6)"
   ],
   "id": "db19f82a56bd37ae",
   "outputs": [],
   "execution_count": null
  },
  {
   "metadata": {},
   "cell_type": "code",
   "source": [
    "model.summary()\n",
    "\n",
    "print(f\"Layer 0 type: {type(model.layers[0])}\")"
   ],
   "id": "1570bc14cc5f8c13",
   "outputs": [],
   "execution_count": null
  },
  {
   "metadata": {},
   "cell_type": "code",
   "source": "",
   "id": "cae1a3a3d842b5c1",
   "outputs": [],
   "execution_count": null
  }
 ],
 "metadata": {
  "kernelspec": {
   "display_name": "Python 3",
   "language": "python",
   "name": "python3"
  },
  "language_info": {
   "codemirror_mode": {
    "name": "ipython",
    "version": 2
   },
   "file_extension": ".py",
   "mimetype": "text/x-python",
   "name": "python",
   "nbconvert_exporter": "python",
   "pygments_lexer": "ipython2",
   "version": "2.7.6"
  }
 },
 "nbformat": 4,
 "nbformat_minor": 5
}
