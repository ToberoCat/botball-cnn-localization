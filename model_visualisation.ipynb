{
 "cells": [
  {
   "cell_type": "code",
   "id": "initial_id",
   "metadata": {
    "collapsed": true
   },
   "source": [
    "from PIL import ImageFont\n",
    "import keras\n",
    "import visualkeras\n",
    "\n",
    "model = keras.models.load_model('data/ckpt_/best.keras')\n",
    "\n",
    "\n",
    "def text_callable(layer_index, layer):\n",
    "    above = bool(layer_index % 2)\n",
    "\n",
    "    output_shape = [x for x in list(layer.output.shape) if x is not None]\n",
    "\n",
    "    if isinstance(output_shape[0], tuple):\n",
    "        output_shape = list(output_shape[0])\n",
    "        output_shape = [x for x in output_shape if x is not None]\n",
    "\n",
    "    output_shape_txt = \"\"\n",
    "\n",
    "    for ii in range(len(output_shape)):\n",
    "        output_shape_txt += str(output_shape[ii])\n",
    "        if ii < len(output_shape) - 2:\n",
    "            output_shape_txt += \"x\"\n",
    "        if ii == len(output_shape) - 2:\n",
    "            output_shape_txt += \"\\n\"\n",
    "\n",
    "    activation = layer.activation._api_export_path.split(\".\")[-1] if hasattr(layer, 'activation') else None\n",
    "    if activation:\n",
    "        output_shape_txt += f\"\\n{activation}\"\n",
    "    return output_shape_txt, above\n",
    "\n",
    "\n",
    "font = ImageFont.truetype(\"DejaVuSans.ttf\", 20)\n",
    "visualkeras.layered_view(model,\n",
    "                         legend=True,\n",
    "                         text_callable=text_callable,\n",
    "                         shade_step=15,\n",
    "                         font=font,\n",
    "                         scale_z=0.5,\n",
    "                         scale_xy=2,\n",
    "                         padding=20,\n",
    "                         to_file='model.png',\n",
    "                         draw_funnel=True).show()"
   ],
   "outputs": [],
   "execution_count": null
  },
  {
   "metadata": {},
   "cell_type": "code",
   "source": [
    "import matplotlib.pyplot as plt\n",
    "import matplotlib\n",
    "\n",
    "print(matplotlib.rcParams['font.family'])"
   ],
   "id": "ebde2d27f921f719",
   "outputs": [],
   "execution_count": null
  },
  {
   "metadata": {},
   "cell_type": "code",
   "source": [
    "from PIL import ImageFont\n",
    "\n",
    "font = ImageFont.load_default()\n",
    "print(font)"
   ],
   "id": "51273b7b2e644d89",
   "outputs": [],
   "execution_count": null
  }
 ],
 "metadata": {
  "kernelspec": {
   "display_name": "Python 3",
   "language": "python",
   "name": "python3"
  },
  "language_info": {
   "codemirror_mode": {
    "name": "ipython",
    "version": 2
   },
   "file_extension": ".py",
   "mimetype": "text/x-python",
   "name": "python",
   "nbconvert_exporter": "python",
   "pygments_lexer": "ipython2",
   "version": "2.7.6"
  }
 },
 "nbformat": 4,
 "nbformat_minor": 5
}
